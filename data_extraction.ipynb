{
  "cells": [
    {
      "cell_type": "markdown",
      "metadata": {
        "id": "view-in-github",
        "colab_type": "text"
      },
      "source": [
        "<a href=\"https://colab.research.google.com/github/asheerali/Microbusiness_density_Forecasting/blob/main/data_extraction.ipynb\" target=\"_parent\"><img src=\"https://colab.research.google.com/assets/colab-badge.svg\" alt=\"Open In Colab\"/></a>"
      ]
    },
    {
      "cell_type": "code",
      "execution_count": null,
      "id": "2abea8ed",
      "metadata": {
        "id": "2abea8ed"
      },
      "outputs": [],
      "source": [
        "import pandas as pd\n",
        "import numpy as np"
      ]
    },
    {
      "cell_type": "code",
      "execution_count": null,
      "id": "3721f49f",
      "metadata": {
        "id": "3721f49f"
      },
      "outputs": [],
      "source": [
        "df = pd.read_csv(\"train.csv\")"
      ]
    },
    {
      "cell_type": "code",
      "execution_count": null,
      "id": "6609d41d",
      "metadata": {
        "id": "6609d41d",
        "outputId": "c84b105d-7ad1-42dc-9729-8f94f4cb65db"
      },
      "outputs": [
        {
          "data": {
            "text/html": [
              "<div>\n",
              "<style scoped>\n",
              "    .dataframe tbody tr th:only-of-type {\n",
              "        vertical-align: middle;\n",
              "    }\n",
              "\n",
              "    .dataframe tbody tr th {\n",
              "        vertical-align: top;\n",
              "    }\n",
              "\n",
              "    .dataframe thead th {\n",
              "        text-align: right;\n",
              "    }\n",
              "</style>\n",
              "<table border=\"1\" class=\"dataframe\">\n",
              "  <thead>\n",
              "    <tr style=\"text-align: right;\">\n",
              "      <th></th>\n",
              "      <th>row_id</th>\n",
              "      <th>cfips</th>\n",
              "      <th>county</th>\n",
              "      <th>state</th>\n",
              "      <th>first_day_of_month</th>\n",
              "      <th>microbusiness_density</th>\n",
              "      <th>active</th>\n",
              "    </tr>\n",
              "  </thead>\n",
              "  <tbody>\n",
              "    <tr>\n",
              "      <th>0</th>\n",
              "      <td>1001_2019-08-01</td>\n",
              "      <td>1001</td>\n",
              "      <td>Autauga County</td>\n",
              "      <td>Alabama</td>\n",
              "      <td>2019-08-01</td>\n",
              "      <td>3.007682</td>\n",
              "      <td>1249</td>\n",
              "    </tr>\n",
              "    <tr>\n",
              "      <th>1</th>\n",
              "      <td>1001_2019-09-01</td>\n",
              "      <td>1001</td>\n",
              "      <td>Autauga County</td>\n",
              "      <td>Alabama</td>\n",
              "      <td>2019-09-01</td>\n",
              "      <td>2.884870</td>\n",
              "      <td>1198</td>\n",
              "    </tr>\n",
              "    <tr>\n",
              "      <th>2</th>\n",
              "      <td>1001_2019-10-01</td>\n",
              "      <td>1001</td>\n",
              "      <td>Autauga County</td>\n",
              "      <td>Alabama</td>\n",
              "      <td>2019-10-01</td>\n",
              "      <td>3.055843</td>\n",
              "      <td>1269</td>\n",
              "    </tr>\n",
              "    <tr>\n",
              "      <th>3</th>\n",
              "      <td>1001_2019-11-01</td>\n",
              "      <td>1001</td>\n",
              "      <td>Autauga County</td>\n",
              "      <td>Alabama</td>\n",
              "      <td>2019-11-01</td>\n",
              "      <td>2.993233</td>\n",
              "      <td>1243</td>\n",
              "    </tr>\n",
              "    <tr>\n",
              "      <th>4</th>\n",
              "      <td>1001_2019-12-01</td>\n",
              "      <td>1001</td>\n",
              "      <td>Autauga County</td>\n",
              "      <td>Alabama</td>\n",
              "      <td>2019-12-01</td>\n",
              "      <td>2.993233</td>\n",
              "      <td>1243</td>\n",
              "    </tr>\n",
              "  </tbody>\n",
              "</table>\n",
              "</div>"
            ],
            "text/plain": [
              "            row_id  cfips          county    state first_day_of_month  \\\n",
              "0  1001_2019-08-01   1001  Autauga County  Alabama         2019-08-01   \n",
              "1  1001_2019-09-01   1001  Autauga County  Alabama         2019-09-01   \n",
              "2  1001_2019-10-01   1001  Autauga County  Alabama         2019-10-01   \n",
              "3  1001_2019-11-01   1001  Autauga County  Alabama         2019-11-01   \n",
              "4  1001_2019-12-01   1001  Autauga County  Alabama         2019-12-01   \n",
              "\n",
              "   microbusiness_density  active  \n",
              "0               3.007682    1249  \n",
              "1               2.884870    1198  \n",
              "2               3.055843    1269  \n",
              "3               2.993233    1243  \n",
              "4               2.993233    1243  "
            ]
          },
          "execution_count": 47,
          "metadata": {},
          "output_type": "execute_result"
        }
      ],
      "source": [
        "df.head()"
      ]
    },
    {
      "cell_type": "code",
      "execution_count": null,
      "id": "27c3df33",
      "metadata": {
        "id": "27c3df33"
      },
      "outputs": [],
      "source": [
        "df = df[[\"first_day_of_month\",\"microbusiness_density\"]]"
      ]
    },
    {
      "cell_type": "code",
      "execution_count": null,
      "id": "440de279",
      "metadata": {
        "id": "440de279",
        "outputId": "4d39452a-2507-4f75-f3b5-e9b7f216a79a"
      },
      "outputs": [
        {
          "data": {
            "text/html": [
              "<div>\n",
              "<style scoped>\n",
              "    .dataframe tbody tr th:only-of-type {\n",
              "        vertical-align: middle;\n",
              "    }\n",
              "\n",
              "    .dataframe tbody tr th {\n",
              "        vertical-align: top;\n",
              "    }\n",
              "\n",
              "    .dataframe thead th {\n",
              "        text-align: right;\n",
              "    }\n",
              "</style>\n",
              "<table border=\"1\" class=\"dataframe\">\n",
              "  <thead>\n",
              "    <tr style=\"text-align: right;\">\n",
              "      <th></th>\n",
              "      <th>first_day_of_month</th>\n",
              "      <th>microbusiness_density</th>\n",
              "    </tr>\n",
              "  </thead>\n",
              "  <tbody>\n",
              "    <tr>\n",
              "      <th>0</th>\n",
              "      <td>2019-08-01</td>\n",
              "      <td>3.007682</td>\n",
              "    </tr>\n",
              "    <tr>\n",
              "      <th>1</th>\n",
              "      <td>2019-09-01</td>\n",
              "      <td>2.884870</td>\n",
              "    </tr>\n",
              "    <tr>\n",
              "      <th>2</th>\n",
              "      <td>2019-10-01</td>\n",
              "      <td>3.055843</td>\n",
              "    </tr>\n",
              "    <tr>\n",
              "      <th>3</th>\n",
              "      <td>2019-11-01</td>\n",
              "      <td>2.993233</td>\n",
              "    </tr>\n",
              "    <tr>\n",
              "      <th>4</th>\n",
              "      <td>2019-12-01</td>\n",
              "      <td>2.993233</td>\n",
              "    </tr>\n",
              "    <tr>\n",
              "      <th>...</th>\n",
              "      <td>...</td>\n",
              "      <td>...</td>\n",
              "    </tr>\n",
              "    <tr>\n",
              "      <th>122260</th>\n",
              "      <td>2022-06-01</td>\n",
              "      <td>1.803249</td>\n",
              "    </tr>\n",
              "    <tr>\n",
              "      <th>122261</th>\n",
              "      <td>2022-07-01</td>\n",
              "      <td>1.803249</td>\n",
              "    </tr>\n",
              "    <tr>\n",
              "      <th>122262</th>\n",
              "      <td>2022-08-01</td>\n",
              "      <td>1.785395</td>\n",
              "    </tr>\n",
              "    <tr>\n",
              "      <th>122263</th>\n",
              "      <td>2022-09-01</td>\n",
              "      <td>1.785395</td>\n",
              "    </tr>\n",
              "    <tr>\n",
              "      <th>122264</th>\n",
              "      <td>2022-10-01</td>\n",
              "      <td>1.785395</td>\n",
              "    </tr>\n",
              "  </tbody>\n",
              "</table>\n",
              "<p>122265 rows × 2 columns</p>\n",
              "</div>"
            ],
            "text/plain": [
              "       first_day_of_month  microbusiness_density\n",
              "0              2019-08-01               3.007682\n",
              "1              2019-09-01               2.884870\n",
              "2              2019-10-01               3.055843\n",
              "3              2019-11-01               2.993233\n",
              "4              2019-12-01               2.993233\n",
              "...                   ...                    ...\n",
              "122260         2022-06-01               1.803249\n",
              "122261         2022-07-01               1.803249\n",
              "122262         2022-08-01               1.785395\n",
              "122263         2022-09-01               1.785395\n",
              "122264         2022-10-01               1.785395\n",
              "\n",
              "[122265 rows x 2 columns]"
            ]
          },
          "execution_count": 60,
          "metadata": {},
          "output_type": "execute_result"
        }
      ],
      "source": [
        "df"
      ]
    },
    {
      "cell_type": "code",
      "execution_count": null,
      "id": "c454b747",
      "metadata": {
        "id": "c454b747",
        "outputId": "8d7c2685-cd66-449d-9d34-794a70af6461"
      },
      "outputs": [
        {
          "data": {
            "text/plain": [
              "122265"
            ]
          },
          "execution_count": 61,
          "metadata": {},
          "output_type": "execute_result"
        }
      ],
      "source": [
        "len(df_date)"
      ]
    },
    {
      "cell_type": "code",
      "execution_count": null,
      "id": "820decd6",
      "metadata": {
        "id": "820decd6"
      },
      "outputs": [],
      "source": [
        "df[\"first_day_of_month\"]  = pd.to_datetime(df[\"first_day_of_month\"])"
      ]
    },
    {
      "cell_type": "code",
      "execution_count": null,
      "id": "c87c781e",
      "metadata": {
        "id": "c87c781e"
      },
      "outputs": [],
      "source": [
        "df[\"first_day_of_month\"] = (df[\"first_day_of_month\"] - df[\"first_day_of_month\"].min()) / np.timedelta64(1,'D')"
      ]
    },
    {
      "cell_type": "code",
      "execution_count": null,
      "id": "252087fd",
      "metadata": {
        "id": "252087fd",
        "outputId": "14c7e3f3-5995-4a53-87ae-77da5790ee57"
      },
      "outputs": [
        {
          "data": {
            "text/html": [
              "<div>\n",
              "<style scoped>\n",
              "    .dataframe tbody tr th:only-of-type {\n",
              "        vertical-align: middle;\n",
              "    }\n",
              "\n",
              "    .dataframe tbody tr th {\n",
              "        vertical-align: top;\n",
              "    }\n",
              "\n",
              "    .dataframe thead th {\n",
              "        text-align: right;\n",
              "    }\n",
              "</style>\n",
              "<table border=\"1\" class=\"dataframe\">\n",
              "  <thead>\n",
              "    <tr style=\"text-align: right;\">\n",
              "      <th></th>\n",
              "      <th>first_day_of_month</th>\n",
              "      <th>microbusiness_density</th>\n",
              "    </tr>\n",
              "  </thead>\n",
              "  <tbody>\n",
              "    <tr>\n",
              "      <th>0</th>\n",
              "      <td>0.0</td>\n",
              "      <td>3.007682</td>\n",
              "    </tr>\n",
              "    <tr>\n",
              "      <th>1</th>\n",
              "      <td>31.0</td>\n",
              "      <td>2.884870</td>\n",
              "    </tr>\n",
              "    <tr>\n",
              "      <th>2</th>\n",
              "      <td>61.0</td>\n",
              "      <td>3.055843</td>\n",
              "    </tr>\n",
              "    <tr>\n",
              "      <th>3</th>\n",
              "      <td>92.0</td>\n",
              "      <td>2.993233</td>\n",
              "    </tr>\n",
              "    <tr>\n",
              "      <th>4</th>\n",
              "      <td>122.0</td>\n",
              "      <td>2.993233</td>\n",
              "    </tr>\n",
              "    <tr>\n",
              "      <th>...</th>\n",
              "      <td>...</td>\n",
              "      <td>...</td>\n",
              "    </tr>\n",
              "    <tr>\n",
              "      <th>122260</th>\n",
              "      <td>1035.0</td>\n",
              "      <td>1.803249</td>\n",
              "    </tr>\n",
              "    <tr>\n",
              "      <th>122261</th>\n",
              "      <td>1065.0</td>\n",
              "      <td>1.803249</td>\n",
              "    </tr>\n",
              "    <tr>\n",
              "      <th>122262</th>\n",
              "      <td>1096.0</td>\n",
              "      <td>1.785395</td>\n",
              "    </tr>\n",
              "    <tr>\n",
              "      <th>122263</th>\n",
              "      <td>1127.0</td>\n",
              "      <td>1.785395</td>\n",
              "    </tr>\n",
              "    <tr>\n",
              "      <th>122264</th>\n",
              "      <td>1157.0</td>\n",
              "      <td>1.785395</td>\n",
              "    </tr>\n",
              "  </tbody>\n",
              "</table>\n",
              "<p>122265 rows × 2 columns</p>\n",
              "</div>"
            ],
            "text/plain": [
              "        first_day_of_month  microbusiness_density\n",
              "0                      0.0               3.007682\n",
              "1                     31.0               2.884870\n",
              "2                     61.0               3.055843\n",
              "3                     92.0               2.993233\n",
              "4                    122.0               2.993233\n",
              "...                    ...                    ...\n",
              "122260              1035.0               1.803249\n",
              "122261              1065.0               1.803249\n",
              "122262              1096.0               1.785395\n",
              "122263              1127.0               1.785395\n",
              "122264              1157.0               1.785395\n",
              "\n",
              "[122265 rows x 2 columns]"
            ]
          },
          "execution_count": 67,
          "metadata": {},
          "output_type": "execute_result"
        }
      ],
      "source": [
        "df"
      ]
    },
    {
      "cell_type": "code",
      "execution_count": null,
      "id": "426625f5",
      "metadata": {
        "id": "426625f5"
      },
      "outputs": [],
      "source": [
        "df.to_csv('date.txt', index=False, header = False,sep=',')"
      ]
    },
    {
      "cell_type": "code",
      "execution_count": null,
      "id": "a529a98a",
      "metadata": {
        "id": "a529a98a"
      },
      "outputs": [],
      "source": []
    }
  ],
  "metadata": {
    "kernelspec": {
      "display_name": "Python 3 (ipykernel)",
      "language": "python",
      "name": "python3"
    },
    "language_info": {
      "codemirror_mode": {
        "name": "ipython",
        "version": 3
      },
      "file_extension": ".py",
      "mimetype": "text/x-python",
      "name": "python",
      "nbconvert_exporter": "python",
      "pygments_lexer": "ipython3",
      "version": "3.9.13"
    },
    "colab": {
      "provenance": [],
      "include_colab_link": true
    }
  },
  "nbformat": 4,
  "nbformat_minor": 5
}